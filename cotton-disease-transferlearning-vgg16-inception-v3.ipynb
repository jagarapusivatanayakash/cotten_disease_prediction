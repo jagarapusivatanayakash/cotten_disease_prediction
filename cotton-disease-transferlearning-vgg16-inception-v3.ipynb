{
 "cells": [
  {
   "cell_type": "markdown",
   "id": "cbb326af",
   "metadata": {
    "papermill": {
     "duration": 0.012267,
     "end_time": "2022-10-01T12:43:07.922390",
     "exception": false,
     "start_time": "2022-10-01T12:43:07.910123",
     "status": "completed"
    },
    "tags": []
   },
   "source": [
    "# Import the libraries"
   ]
  },
  {
   "cell_type": "code",
   "execution_count": 1,
   "id": "99973472",
   "metadata": {
    "execution": {
     "iopub.execute_input": "2022-10-01T12:43:07.944388Z",
     "iopub.status.busy": "2022-10-01T12:43:07.943777Z",
     "iopub.status.idle": "2022-10-01T12:43:14.658821Z",
     "shell.execute_reply": "2022-10-01T12:43:14.657689Z"
    },
    "papermill": {
     "duration": 6.729456,
     "end_time": "2022-10-01T12:43:14.661837",
     "exception": false,
     "start_time": "2022-10-01T12:43:07.932381",
     "status": "completed"
    },
    "tags": []
   },
   "outputs": [],
   "source": [
    "from tensorflow.keras.layers import Input,Lambda,Dense,Flatten\n",
    "from tensorflow.keras.models import Model,Sequential\n",
    "from tensorflow.keras.applications.inception_v3 import InceptionV3\n",
    "from tensorflow.keras.applications.inception_v3 import preprocess_input\n",
    "from tensorflow.keras.preprocessing.image import ImageDataGenerator,load_img\n",
    "import numpy as np\n",
    "from glob import glob\n",
    "import matplotlib.pyplot as plt"
   ]
  },
  {
   "cell_type": "markdown",
   "id": "3fef1bd1",
   "metadata": {
    "papermill": {
     "duration": 0.009239,
     "end_time": "2022-10-01T12:43:14.680710",
     "exception": false,
     "start_time": "2022-10-01T12:43:14.671471",
     "status": "completed"
    },
    "tags": []
   },
   "source": [
    "**Define the image size according to the standard set and Define the training path and testing path of the images**"
   ]
  },
  {
   "cell_type": "code",
   "execution_count": 2,
   "id": "abf08247",
   "metadata": {
    "execution": {
     "iopub.execute_input": "2022-10-01T12:43:14.703175Z",
     "iopub.status.busy": "2022-10-01T12:43:14.702500Z",
     "iopub.status.idle": "2022-10-01T12:43:14.707640Z",
     "shell.execute_reply": "2022-10-01T12:43:14.706296Z"
    },
    "papermill": {
     "duration": 0.018115,
     "end_time": "2022-10-01T12:43:14.709889",
     "exception": false,
     "start_time": "2022-10-01T12:43:14.691774",
     "status": "completed"
    },
    "tags": []
   },
   "outputs": [],
   "source": [
    "IMAGE_SIZE = [224, 224]\n",
    "train_path = '../input/cotton-disease-dataset/Cotton Disease/train'\n",
    "valid_path = '../input/cotton-disease-dataset/Cotton Disease/test'"
   ]
  },
  {
   "cell_type": "markdown",
   "id": "eace141c",
   "metadata": {
    "papermill": {
     "duration": 0.009056,
     "end_time": "2022-10-01T12:43:14.728287",
     "exception": false,
     "start_time": "2022-10-01T12:43:14.719231",
     "status": "completed"
    },
    "tags": []
   },
   "source": [
    "**Load the pre-trained model InceptionV3 and define the weights and input image size**"
   ]
  },
  {
   "cell_type": "code",
   "execution_count": 3,
   "id": "4c2d675d",
   "metadata": {
    "execution": {
     "iopub.execute_input": "2022-10-01T12:43:14.749032Z",
     "iopub.status.busy": "2022-10-01T12:43:14.748329Z",
     "iopub.status.idle": "2022-10-01T12:43:17.920731Z",
     "shell.execute_reply": "2022-10-01T12:43:17.919471Z"
    },
    "papermill": {
     "duration": 3.185646,
     "end_time": "2022-10-01T12:43:17.923355",
     "exception": false,
     "start_time": "2022-10-01T12:43:14.737709",
     "status": "completed"
    },
    "tags": []
   },
   "outputs": [
    {
     "name": "stderr",
     "output_type": "stream",
     "text": [
      "2022-10-01 12:43:14.804553: I tensorflow/core/common_runtime/process_util.cc:146] Creating new thread pool with default inter op setting: 2. Tune using inter_op_parallelism_threads for best performance.\n"
     ]
    },
    {
     "name": "stdout",
     "output_type": "stream",
     "text": [
      "Downloading data from https://storage.googleapis.com/tensorflow/keras-applications/inception_v3/inception_v3_weights_tf_dim_ordering_tf_kernels_notop.h5\n",
      "87916544/87910968 [==============================] - 0s 0us/step\n",
      "87924736/87910968 [==============================] - 0s 0us/step\n"
     ]
    }
   ],
   "source": [
    "inception=InceptionV3(input_shape=IMAGE_SIZE+[3],weights='imagenet',include_top=False)"
   ]
  },
  {
   "cell_type": "markdown",
   "id": "67f6f916",
   "metadata": {
    "papermill": {
     "duration": 0.010056,
     "end_time": "2022-10-01T12:43:17.944083",
     "exception": false,
     "start_time": "2022-10-01T12:43:17.934027",
     "status": "completed"
    },
    "tags": []
   },
   "source": [
    "weights='imagenet' means that we will use pre-trained weights of the imagenet which was used to train the inceptionV3 model."
   ]
  },
  {
   "cell_type": "markdown",
   "id": "38c83c09",
   "metadata": {
    "papermill": {
     "duration": 0.009968,
     "end_time": "2022-10-01T12:43:17.964491",
     "exception": false,
     "start_time": "2022-10-01T12:43:17.954523",
     "status": "completed"
    },
    "tags": []
   },
   "source": [
    "**No need to train the existing weights**"
   ]
  },
  {
   "cell_type": "code",
   "execution_count": 4,
   "id": "f1e0f3ea",
   "metadata": {
    "execution": {
     "iopub.execute_input": "2022-10-01T12:43:17.986747Z",
     "iopub.status.busy": "2022-10-01T12:43:17.986313Z",
     "iopub.status.idle": "2022-10-01T12:43:18.001641Z",
     "shell.execute_reply": "2022-10-01T12:43:18.000800Z"
    },
    "papermill": {
     "duration": 0.029003,
     "end_time": "2022-10-01T12:43:18.003864",
     "exception": false,
     "start_time": "2022-10-01T12:43:17.974861",
     "status": "completed"
    },
    "tags": []
   },
   "outputs": [],
   "source": [
    "for layers in inception.layers:\n",
    "    layers.trainable=False"
   ]
  },
  {
   "cell_type": "markdown",
   "id": "b23f7a3b",
   "metadata": {
    "papermill": {
     "duration": 0.009996,
     "end_time": "2022-10-01T12:43:18.024264",
     "exception": false,
     "start_time": "2022-10-01T12:43:18.014268",
     "status": "completed"
    },
    "tags": []
   },
   "source": [
    "**flatten the output**"
   ]
  },
  {
   "cell_type": "code",
   "execution_count": 5,
   "id": "8ad92f83",
   "metadata": {
    "execution": {
     "iopub.execute_input": "2022-10-01T12:43:18.047530Z",
     "iopub.status.busy": "2022-10-01T12:43:18.046503Z",
     "iopub.status.idle": "2022-10-01T12:43:18.055610Z",
     "shell.execute_reply": "2022-10-01T12:43:18.054887Z"
    },
    "papermill": {
     "duration": 0.02297,
     "end_time": "2022-10-01T12:43:18.057728",
     "exception": false,
     "start_time": "2022-10-01T12:43:18.034758",
     "status": "completed"
    },
    "tags": []
   },
   "outputs": [],
   "source": [
    "# our layers - you can add more if you want\n",
    "x=Flatten()(inception.output)"
   ]
  },
  {
   "cell_type": "markdown",
   "id": "a67d4634",
   "metadata": {
    "papermill": {
     "duration": 0.010007,
     "end_time": "2022-10-01T12:43:18.078065",
     "exception": false,
     "start_time": "2022-10-01T12:43:18.068058",
     "status": "completed"
    },
    "tags": []
   },
   "source": [
    "**Use glob to get total categories so that we can add it at the bottom of our network**"
   ]
  },
  {
   "cell_type": "code",
   "execution_count": 6,
   "id": "6cec84c5",
   "metadata": {
    "execution": {
     "iopub.execute_input": "2022-10-01T12:43:18.100926Z",
     "iopub.status.busy": "2022-10-01T12:43:18.099848Z",
     "iopub.status.idle": "2022-10-01T12:43:18.115070Z",
     "shell.execute_reply": "2022-10-01T12:43:18.113940Z"
    },
    "papermill": {
     "duration": 0.029084,
     "end_time": "2022-10-01T12:43:18.117422",
     "exception": false,
     "start_time": "2022-10-01T12:43:18.088338",
     "status": "completed"
    },
    "tags": []
   },
   "outputs": [
    {
     "data": {
      "text/plain": [
       "['../input/cotton-disease-dataset/Cotton Disease/train/fresh cotton plant',\n",
       " '../input/cotton-disease-dataset/Cotton Disease/train/fresh cotton leaf',\n",
       " '../input/cotton-disease-dataset/Cotton Disease/train/diseased cotton plant',\n",
       " '../input/cotton-disease-dataset/Cotton Disease/train/diseased cotton leaf']"
      ]
     },
     "execution_count": 6,
     "metadata": {},
     "output_type": "execute_result"
    }
   ],
   "source": [
    "# used to get number output classes\n",
    "folders=glob('../input/cotton-disease-dataset/Cotton Disease/train/*')\n",
    "folders"
   ]
  },
  {
   "cell_type": "markdown",
   "id": "23f1c5a7",
   "metadata": {
    "papermill": {
     "duration": 0.010326,
     "end_time": "2022-10-01T12:43:18.138328",
     "exception": false,
     "start_time": "2022-10-01T12:43:18.128002",
     "status": "completed"
    },
    "tags": []
   },
   "source": [
    "**Find the predictions and feed it to the model and Creating model object**"
   ]
  },
  {
   "cell_type": "code",
   "execution_count": 7,
   "id": "c10b35c2",
   "metadata": {
    "execution": {
     "iopub.execute_input": "2022-10-01T12:43:18.161084Z",
     "iopub.status.busy": "2022-10-01T12:43:18.160682Z",
     "iopub.status.idle": "2022-10-01T12:43:18.194984Z",
     "shell.execute_reply": "2022-10-01T12:43:18.193824Z"
    },
    "papermill": {
     "duration": 0.048798,
     "end_time": "2022-10-01T12:43:18.197768",
     "exception": false,
     "start_time": "2022-10-01T12:43:18.148970",
     "status": "completed"
    },
    "tags": []
   },
   "outputs": [],
   "source": [
    "prediction = Dense(len(folders), activation='softmax')(x)\n",
    "model=Model(inputs=inception.input,outputs=prediction)"
   ]
  },
  {
   "cell_type": "code",
   "execution_count": 8,
   "id": "0466a3ef",
   "metadata": {
    "execution": {
     "iopub.execute_input": "2022-10-01T12:43:18.221316Z",
     "iopub.status.busy": "2022-10-01T12:43:18.220513Z",
     "iopub.status.idle": "2022-10-01T12:43:18.238823Z",
     "shell.execute_reply": "2022-10-01T12:43:18.237739Z"
    },
    "papermill": {
     "duration": 0.033481,
     "end_time": "2022-10-01T12:43:18.241653",
     "exception": false,
     "start_time": "2022-10-01T12:43:18.208172",
     "status": "completed"
    },
    "tags": []
   },
   "outputs": [],
   "source": [
    "# tell the model what cost and optimization method to use\n",
    "model.compile(loss='categorical_crossentropy',optimizer='adam',metrics=['accuracy'])"
   ]
  },
  {
   "cell_type": "markdown",
   "id": "1b0a91ac",
   "metadata": {
    "papermill": {
     "duration": 0.009901,
     "end_time": "2022-10-01T12:43:18.262017",
     "exception": false,
     "start_time": "2022-10-01T12:43:18.252116",
     "status": "completed"
    },
    "tags": []
   },
   "source": [
    "**Use Image Data generator to import images from folder and for data augmentation**"
   ]
  },
  {
   "cell_type": "code",
   "execution_count": 9,
   "id": "f78b8c6b",
   "metadata": {
    "execution": {
     "iopub.execute_input": "2022-10-01T12:43:18.284692Z",
     "iopub.status.busy": "2022-10-01T12:43:18.284057Z",
     "iopub.status.idle": "2022-10-01T12:43:18.289727Z",
     "shell.execute_reply": "2022-10-01T12:43:18.288920Z"
    },
    "papermill": {
     "duration": 0.019517,
     "end_time": "2022-10-01T12:43:18.291791",
     "exception": false,
     "start_time": "2022-10-01T12:43:18.272274",
     "status": "completed"
    },
    "tags": []
   },
   "outputs": [],
   "source": [
    "train_datagen = ImageDataGenerator(rescale = 1./255,\n",
    "                                   shear_range = 0.2,\n",
    "                                   zoom_range = 0.2,\n",
    "                                   horizontal_flip = True)\n",
    "\n",
    "test_datagen = ImageDataGenerator(rescale = 1./255)"
   ]
  },
  {
   "cell_type": "code",
   "execution_count": 10,
   "id": "4c1146a7",
   "metadata": {
    "execution": {
     "iopub.execute_input": "2022-10-01T12:43:18.314305Z",
     "iopub.status.busy": "2022-10-01T12:43:18.313701Z",
     "iopub.status.idle": "2022-10-01T12:43:18.629229Z",
     "shell.execute_reply": "2022-10-01T12:43:18.626286Z"
    },
    "papermill": {
     "duration": 0.33121,
     "end_time": "2022-10-01T12:43:18.633372",
     "exception": false,
     "start_time": "2022-10-01T12:43:18.302162",
     "status": "completed"
    },
    "tags": []
   },
   "outputs": [
    {
     "name": "stdout",
     "output_type": "stream",
     "text": [
      "Found 1951 images belonging to 4 classes.\n"
     ]
    }
   ],
   "source": [
    "training_set = train_datagen.flow_from_directory('../input/cotton-disease-dataset/Cotton Disease/train',\n",
    "                                                 target_size = (224, 224),\n",
    "                                                 batch_size = 32,\n",
    "                                                 class_mode = 'categorical')"
   ]
  },
  {
   "cell_type": "code",
   "execution_count": 11,
   "id": "cb79216b",
   "metadata": {
    "execution": {
     "iopub.execute_input": "2022-10-01T12:43:18.663188Z",
     "iopub.status.busy": "2022-10-01T12:43:18.661861Z",
     "iopub.status.idle": "2022-10-01T12:43:18.773204Z",
     "shell.execute_reply": "2022-10-01T12:43:18.772385Z"
    },
    "papermill": {
     "duration": 0.127686,
     "end_time": "2022-10-01T12:43:18.775808",
     "exception": false,
     "start_time": "2022-10-01T12:43:18.648122",
     "status": "completed"
    },
    "tags": []
   },
   "outputs": [
    {
     "name": "stdout",
     "output_type": "stream",
     "text": [
      "Found 106 images belonging to 4 classes.\n"
     ]
    }
   ],
   "source": [
    "test_set = test_datagen.flow_from_directory('../input/cotton-disease-dataset/Cotton Disease/test',\n",
    "                                            target_size = (224, 224),\n",
    "                                            batch_size = 32,\n",
    "                                            class_mode = 'categorical')"
   ]
  },
  {
   "cell_type": "code",
   "execution_count": 12,
   "id": "4a253ce5",
   "metadata": {
    "execution": {
     "iopub.execute_input": "2022-10-01T12:43:18.800811Z",
     "iopub.status.busy": "2022-10-01T12:43:18.800045Z",
     "iopub.status.idle": "2022-10-01T13:29:43.147567Z",
     "shell.execute_reply": "2022-10-01T13:29:43.146042Z"
    },
    "papermill": {
     "duration": 2784.447692,
     "end_time": "2022-10-01T13:29:43.235426",
     "exception": false,
     "start_time": "2022-10-01T12:43:18.787734",
     "status": "completed"
    },
    "tags": []
   },
   "outputs": [
    {
     "name": "stderr",
     "output_type": "stream",
     "text": [
      "2022-10-01 12:43:19.722087: I tensorflow/compiler/mlir/mlir_graph_optimization_pass.cc:185] None of the MLIR Optimization Passes are enabled (registered 2)\n"
     ]
    },
    {
     "name": "stdout",
     "output_type": "stream",
     "text": [
      "Epoch 1/20\n",
      "61/61 [==============================] - 139s 2s/step - loss: 1.5750 - accuracy: 0.7724 - val_loss: 0.5452 - val_accuracy: 0.8585\n",
      "Epoch 2/20\n",
      "61/61 [==============================] - 127s 2s/step - loss: 0.5485 - accuracy: 0.9011 - val_loss: 0.4458 - val_accuracy: 0.8868\n",
      "Epoch 3/20\n",
      "61/61 [==============================] - 127s 2s/step - loss: 0.5929 - accuracy: 0.8954 - val_loss: 0.3048 - val_accuracy: 0.8868\n",
      "Epoch 4/20\n",
      "61/61 [==============================] - 127s 2s/step - loss: 0.7845 - accuracy: 0.8898 - val_loss: 1.2825 - val_accuracy: 0.8302\n",
      "Epoch 5/20\n",
      "61/61 [==============================] - 127s 2s/step - loss: 0.8238 - accuracy: 0.9108 - val_loss: 1.0870 - val_accuracy: 0.9151\n",
      "Epoch 6/20\n",
      "61/61 [==============================] - 127s 2s/step - loss: 0.4427 - accuracy: 0.9364 - val_loss: 0.6380 - val_accuracy: 0.9340\n",
      "Epoch 7/20\n",
      "61/61 [==============================] - 127s 2s/step - loss: 0.5422 - accuracy: 0.9247 - val_loss: 0.3984 - val_accuracy: 0.9434\n",
      "Epoch 8/20\n",
      "61/61 [==============================] - 127s 2s/step - loss: 0.4461 - accuracy: 0.9359 - val_loss: 0.4145 - val_accuracy: 0.9528\n",
      "Epoch 9/20\n",
      "61/61 [==============================] - 127s 2s/step - loss: 0.5475 - accuracy: 0.9390 - val_loss: 0.6396 - val_accuracy: 0.9434\n",
      "Epoch 10/20\n",
      "61/61 [==============================] - 127s 2s/step - loss: 0.2896 - accuracy: 0.9626 - val_loss: 0.5221 - val_accuracy: 0.9528\n",
      "Epoch 11/20\n",
      "61/61 [==============================] - 127s 2s/step - loss: 0.3766 - accuracy: 0.9559 - val_loss: 0.6182 - val_accuracy: 0.9340\n",
      "Epoch 12/20\n",
      "61/61 [==============================] - 126s 2s/step - loss: 0.4299 - accuracy: 0.9503 - val_loss: 1.1499 - val_accuracy: 0.8868\n",
      "Epoch 13/20\n",
      "61/61 [==============================] - 127s 2s/step - loss: 0.5010 - accuracy: 0.9457 - val_loss: 0.2830 - val_accuracy: 0.9623\n",
      "Epoch 14/20\n",
      "61/61 [==============================] - 127s 2s/step - loss: 0.4007 - accuracy: 0.9559 - val_loss: 0.4836 - val_accuracy: 0.9717\n",
      "Epoch 15/20\n",
      "61/61 [==============================] - 127s 2s/step - loss: 0.3888 - accuracy: 0.9539 - val_loss: 0.2830 - val_accuracy: 0.9811\n",
      "Epoch 16/20\n",
      "61/61 [==============================] - 127s 2s/step - loss: 0.3143 - accuracy: 0.9626 - val_loss: 0.6890 - val_accuracy: 0.9623\n",
      "Epoch 17/20\n",
      "61/61 [==============================] - 127s 2s/step - loss: 0.3341 - accuracy: 0.9600 - val_loss: 0.8973 - val_accuracy: 0.9434\n",
      "Epoch 18/20\n",
      "61/61 [==============================] - 128s 2s/step - loss: 0.6438 - accuracy: 0.9421 - val_loss: 0.5379 - val_accuracy: 0.9717\n",
      "Epoch 19/20\n",
      "61/61 [==============================] - 127s 2s/step - loss: 0.6907 - accuracy: 0.9436 - val_loss: 0.0929 - val_accuracy: 0.9717\n",
      "Epoch 20/20\n",
      "61/61 [==============================] - 127s 2s/step - loss: 0.3928 - accuracy: 0.9575 - val_loss: 1.4154 - val_accuracy: 0.8774\n"
     ]
    }
   ],
   "source": [
    "r=model.fit(training_set, validation_data=test_set,epochs=20,steps_per_epoch=len(training_set),validation_steps=len(test_set))"
   ]
  },
  {
   "cell_type": "code",
   "execution_count": 13,
   "id": "02e8a037",
   "metadata": {
    "execution": {
     "iopub.execute_input": "2022-10-01T13:29:43.411693Z",
     "iopub.status.busy": "2022-10-01T13:29:43.411296Z",
     "iopub.status.idle": "2022-10-01T13:29:43.652838Z",
     "shell.execute_reply": "2022-10-01T13:29:43.651655Z"
    },
    "papermill": {
     "duration": 0.332403,
     "end_time": "2022-10-01T13:29:43.655519",
     "exception": false,
     "start_time": "2022-10-01T13:29:43.323116",
     "status": "completed"
    },
    "tags": []
   },
   "outputs": [
    {
     "data": {
      "image/png": "[encoded data removed]",
      "text/plain": [
       "<Figure size 432x288 with 1 Axes>"
      ]
     },
     "metadata": {
      "needs_background": "light"
     },
     "output_type": "display_data"
    },
    {
     "data": {
      "text/plain": [
       "<Figure size 432x288 with 0 Axes>"
      ]
     },
     "metadata": {},
     "output_type": "display_data"
    }
   ],
   "source": [
    "# plot the accuracy InceptionV3\n",
    "plt.plot(r.history['accuracy'], label='train acc')\n",
    "plt.plot(r.history['val_accuracy'], label='val acc')\n",
    "plt.legend()\n",
    "plt.show()\n",
    "plt.savefig('AccVal_acc')"
   ]
  },
  {
   "cell_type": "code",
   "execution_count": 14,
   "id": "1c1805f3",
   "metadata": {
    "execution": {
     "iopub.execute_input": "2022-10-01T13:29:43.839952Z",
     "iopub.status.busy": "2022-10-01T13:29:43.839192Z",
     "iopub.status.idle": "2022-10-01T13:29:44.060254Z",
     "shell.execute_reply": "2022-10-01T13:29:44.059197Z"
    },
    "papermill": {
     "duration": 0.313513,
     "end_time": "2022-10-01T13:29:44.062481",
     "exception": false,
     "start_time": "2022-10-01T13:29:43.748968",
     "status": "completed"
    },
    "tags": []
   },
   "outputs": [
    {
     "data": {
      "image/png": "[encoded data removed]",
      "text/plain": [
       "<Figure size 432x288 with 1 Axes>"
      ]
     },
     "metadata": {
      "needs_background": "light"
     },
     "output_type": "display_data"
    },
    {
     "data": {
      "text/plain": [
       "<Figure size 432x288 with 0 Axes>"
      ]
     },
     "metadata": {},
     "output_type": "display_data"
    }
   ],
   "source": [
    "# plot the accuracy InceptionV3\n",
    "plt.plot(r.history['accuracy'], label='train acc')\n",
    "plt.plot(r.history['val_accuracy'], label='val acc')\n",
    "plt.legend()\n",
    "plt.show()\n",
    "plt.savefig('AccVal_acc')"
   ]
  },
  {
   "cell_type": "markdown",
   "id": "1fc801d4",
   "metadata": {
    "papermill": {
     "duration": 0.087561,
     "end_time": "2022-10-01T13:29:44.238921",
     "exception": false,
     "start_time": "2022-10-01T13:29:44.151360",
     "status": "completed"
    },
    "tags": []
   },
   "source": [
    "# Resnet152V2"
   ]
  },
  {
   "cell_type": "markdown",
   "id": "bd3f3059",
   "metadata": {
    "papermill": {
     "duration": 0.088887,
     "end_time": "2022-10-01T13:29:44.418191",
     "exception": false,
     "start_time": "2022-10-01T13:29:44.329304",
     "status": "completed"
    },
    "tags": []
   },
   "source": [
    "**Load the pre-trained model Resnet152V2 and define the weights and input image size**"
   ]
  },
  {
   "cell_type": "code",
   "execution_count": 15,
   "id": "2cab15f6",
   "metadata": {
    "execution": {
     "iopub.execute_input": "2022-10-01T13:29:44.598349Z",
     "iopub.status.busy": "2022-10-01T13:29:44.597683Z",
     "iopub.status.idle": "2022-10-01T13:29:50.403126Z",
     "shell.execute_reply": "2022-10-01T13:29:50.401589Z"
    },
    "papermill": {
     "duration": 5.898711,
     "end_time": "2022-10-01T13:29:50.406015",
     "exception": false,
     "start_time": "2022-10-01T13:29:44.507304",
     "status": "completed"
    },
    "tags": []
   },
   "outputs": [
    {
     "name": "stdout",
     "output_type": "stream",
     "text": [
      "Downloading data from https://storage.googleapis.com/tensorflow/keras-applications/resnet/resnet152v2_weights_tf_dim_ordering_tf_kernels_notop.h5\n",
      "234553344/234545216 [==============================] - 1s 0us/step\n",
      "234561536/234545216 [==============================] - 1s 0us/step\n"
     ]
    }
   ],
   "source": [
    "import tensorflow\n",
    "resnet152V2 =tensorflow.keras.applications.ResNet152V2(input_shape=IMAGE_SIZE + [3], weights='imagenet', include_top=False)"
   ]
  },
  {
   "cell_type": "markdown",
   "id": "2ec8a005",
   "metadata": {
    "papermill": {
     "duration": 0.146373,
     "end_time": "2022-10-01T13:29:50.643665",
     "exception": false,
     "start_time": "2022-10-01T13:29:50.497292",
     "status": "completed"
    },
    "tags": []
   },
   "source": [
    "**Do not train the existing weights**"
   ]
  },
  {
   "cell_type": "code",
   "execution_count": 16,
   "id": "8790381f",
   "metadata": {
    "execution": {
     "iopub.execute_input": "2022-10-01T13:29:50.825148Z",
     "iopub.status.busy": "2022-10-01T13:29:50.824391Z",
     "iopub.status.idle": "2022-10-01T13:29:50.846431Z",
     "shell.execute_reply": "2022-10-01T13:29:50.845164Z"
    },
    "papermill": {
     "duration": 0.115279,
     "end_time": "2022-10-01T13:29:50.849021",
     "exception": false,
     "start_time": "2022-10-01T13:29:50.733742",
     "status": "completed"
    },
    "tags": []
   },
   "outputs": [],
   "source": [
    "for layer in resnet152V2.layers:\n",
    "    layer.trainable=False"
   ]
  },
  {
   "cell_type": "markdown",
   "id": "e167c2bb",
   "metadata": {
    "papermill": {
     "duration": 0.090356,
     "end_time": "2022-10-01T13:29:51.030964",
     "exception": false,
     "start_time": "2022-10-01T13:29:50.940608",
     "status": "completed"
    },
    "tags": []
   },
   "source": [
    " **Now flatten the output**"
   ]
  },
  {
   "cell_type": "code",
   "execution_count": 17,
   "id": "b5ffcbca",
   "metadata": {
    "execution": {
     "iopub.execute_input": "2022-10-01T13:29:51.211828Z",
     "iopub.status.busy": "2022-10-01T13:29:51.211398Z",
     "iopub.status.idle": "2022-10-01T13:29:51.220544Z",
     "shell.execute_reply": "2022-10-01T13:29:51.219429Z"
    },
    "papermill": {
     "duration": 0.103135,
     "end_time": "2022-10-01T13:29:51.223149",
     "exception": false,
     "start_time": "2022-10-01T13:29:51.120014",
     "status": "completed"
    },
    "tags": []
   },
   "outputs": [],
   "source": [
    "# our layers - you can add more if you want\n",
    "x=Flatten()(resnet152V2.output)"
   ]
  },
  {
   "cell_type": "markdown",
   "id": "890513f1",
   "metadata": {
    "papermill": {
     "duration": 0.089102,
     "end_time": "2022-10-01T13:29:51.401840",
     "exception": false,
     "start_time": "2022-10-01T13:29:51.312738",
     "status": "completed"
    },
    "tags": []
   },
   "source": [
    "**Find the predictions and feed it to the model and Creating model object for Resnet152V2**"
   ]
  },
  {
   "cell_type": "code",
   "execution_count": 18,
   "id": "4f9fe5da",
   "metadata": {
    "execution": {
     "iopub.execute_input": "2022-10-01T13:29:51.581898Z",
     "iopub.status.busy": "2022-10-01T13:29:51.581047Z",
     "iopub.status.idle": "2022-10-01T13:29:51.630978Z",
     "shell.execute_reply": "2022-10-01T13:29:51.629811Z"
    },
    "papermill": {
     "duration": 0.142857,
     "end_time": "2022-10-01T13:29:51.633862",
     "exception": false,
     "start_time": "2022-10-01T13:29:51.491005",
     "status": "completed"
    },
    "tags": []
   },
   "outputs": [],
   "source": [
    "preduction2=Dense(len(folders),activation='softmax')(x)\n",
    "model2=Model(inputs=resnet152V2.input,outputs=preduction2)"
   ]
  },
  {
   "cell_type": "code",
   "execution_count": 19,
   "id": "708514a4",
   "metadata": {
    "execution": {
     "iopub.execute_input": "2022-10-01T13:29:51.814277Z",
     "iopub.status.busy": "2022-10-01T13:29:51.813574Z",
     "iopub.status.idle": "2022-10-01T13:29:51.831012Z",
     "shell.execute_reply": "2022-10-01T13:29:51.829965Z"
    },
    "papermill": {
     "duration": 0.110367,
     "end_time": "2022-10-01T13:29:51.833511",
     "exception": false,
     "start_time": "2022-10-01T13:29:51.723144",
     "status": "completed"
    },
    "tags": []
   },
   "outputs": [],
   "source": [
    "model2.compile(loss='categorical_crossentropy',optimizer='adam',metrics=['accuracy'])"
   ]
  },
  {
   "cell_type": "code",
   "execution_count": 20,
   "id": "4357ed32",
   "metadata": {
    "execution": {
     "iopub.execute_input": "2022-10-01T13:29:52.018965Z",
     "iopub.status.busy": "2022-10-01T13:29:52.018498Z",
     "iopub.status.idle": "2022-10-01T14:39:02.687007Z",
     "shell.execute_reply": "2022-10-01T14:39:02.686097Z"
    },
    "papermill": {
     "duration": 4150.764925,
     "end_time": "2022-10-01T14:39:02.689598",
     "exception": false,
     "start_time": "2022-10-01T13:29:51.924673",
     "status": "completed"
    },
    "tags": []
   },
   "outputs": [
    {
     "name": "stderr",
     "output_type": "stream",
     "text": [
      "/opt/conda/lib/python3.7/site-packages/keras/engine/training.py:1972: UserWarning: `Model.fit_generator` is deprecated and will be removed in a future version. Please use `Model.fit`, which supports generators.\n",
      "  warnings.warn('`Model.fit_generator` is deprecated and '\n"
     ]
    },
    {
     "name": "stdout",
     "output_type": "stream",
     "text": [
      "Epoch 1/10\n",
      "61/61 [==============================] - 423s 7s/step - loss: 1.0424 - accuracy: 0.8385 - val_loss: 0.4373 - val_accuracy: 0.9151\n",
      "Epoch 2/10\n",
      "61/61 [==============================] - 408s 7s/step - loss: 0.5065 - accuracy: 0.9288 - val_loss: 0.1723 - val_accuracy: 0.9623\n",
      "Epoch 3/10\n",
      "61/61 [==============================] - 406s 7s/step - loss: 0.3133 - accuracy: 0.9452 - val_loss: 0.5375 - val_accuracy: 0.9623\n",
      "Epoch 4/10\n",
      "61/61 [==============================] - 408s 7s/step - loss: 0.4090 - accuracy: 0.9508 - val_loss: 0.7316 - val_accuracy: 0.9245\n",
      "Epoch 5/10\n",
      "61/61 [==============================] - 405s 7s/step - loss: 0.4781 - accuracy: 0.9487 - val_loss: 0.5469 - val_accuracy: 0.9340\n",
      "Epoch 6/10\n",
      "61/61 [==============================] - 404s 7s/step - loss: 0.3677 - accuracy: 0.9605 - val_loss: 0.8484 - val_accuracy: 0.9340\n",
      "Epoch 7/10\n",
      "61/61 [==============================] - 406s 7s/step - loss: 0.2701 - accuracy: 0.9698 - val_loss: 0.7410 - val_accuracy: 0.9245\n",
      "Epoch 8/10\n",
      "61/61 [==============================] - 405s 7s/step - loss: 0.3185 - accuracy: 0.9610 - val_loss: 0.2101 - val_accuracy: 0.9623\n",
      "Epoch 9/10\n",
      "61/61 [==============================] - 406s 7s/step - loss: 0.2902 - accuracy: 0.9672 - val_loss: 0.9796 - val_accuracy: 0.9340\n",
      "Epoch 10/10\n",
      "61/61 [==============================] - 404s 7s/step - loss: 0.2232 - accuracy: 0.9749 - val_loss: 0.7909 - val_accuracy: 0.9340\n"
     ]
    }
   ],
   "source": [
    "r2 = model2.fit_generator(\n",
    "  training_set,\n",
    "  validation_data=test_set,\n",
    "  epochs=10,\n",
    "  steps_per_epoch=len(training_set),\n",
    "  validation_steps=len(test_set)\n",
    ")"
   ]
  },
  {
   "cell_type": "code",
   "execution_count": 21,
   "id": "0d7cc967",
   "metadata": {
    "execution": {
     "iopub.execute_input": "2022-10-01T14:39:02.952003Z",
     "iopub.status.busy": "2022-10-01T14:39:02.951240Z",
     "iopub.status.idle": "2022-10-01T14:39:03.173896Z",
     "shell.execute_reply": "2022-10-01T14:39:03.172644Z"
    },
    "papermill": {
     "duration": 0.357297,
     "end_time": "2022-10-01T14:39:03.176281",
     "exception": false,
     "start_time": "2022-10-01T14:39:02.818984",
     "status": "completed"
    },
    "tags": []
   },
   "outputs": [
    {
     "data": {
      "image/png": "[encoded data removed]",
      "text/plain": [
       "<Figure size 432x288 with 1 Axes>"
      ]
     },
     "metadata": {
      "needs_background": "light"
     },
     "output_type": "display_data"
    },
    {
     "data": {
      "text/plain": [
       "<Figure size 432x288 with 0 Axes>"
      ]
     },
     "metadata": {},
     "output_type": "display_data"
    }
   ],
   "source": [
    "# plot the loss resnet152v2\n",
    "plt.plot(r2.history['loss'], label='train loss')\n",
    "plt.plot(r2.history['val_loss'], label='val loss')\n",
    "plt.legend()\n",
    "plt.show()\n",
    "plt.savefig('LossVal_loss')"
   ]
  },
  {
   "cell_type": "code",
   "execution_count": 22,
   "id": "afb52917",
   "metadata": {
    "execution": {
     "iopub.execute_input": "2022-10-01T14:39:03.496755Z",
     "iopub.status.busy": "2022-10-01T14:39:03.496328Z",
     "iopub.status.idle": "2022-10-01T14:39:03.726419Z",
     "shell.execute_reply": "2022-10-01T14:39:03.725646Z"
    },
    "papermill": {
     "duration": 0.425121,
     "end_time": "2022-10-01T14:39:03.728796",
     "exception": false,
     "start_time": "2022-10-01T14:39:03.303675",
     "status": "completed"
    },
    "tags": []
   },
   "outputs": [
    {
     "data": {
      "image/png": "[encoded data removed]",
      "text/plain": [
       "<Figure size 432x288 with 1 Axes>"
      ]
     },
     "metadata": {
      "needs_background": "light"
     },
     "output_type": "display_data"
    },
    {
     "data": {
      "text/plain": [
       "<Figure size 432x288 with 0 Axes>"
      ]
     },
     "metadata": {},
     "output_type": "display_data"
    }
   ],
   "source": [
    "# plot the accuracy resnet152v2\n",
    "plt.plot(r2.history['accuracy'], label='train acc')\n",
    "plt.plot(r2.history['val_accuracy'], label='val acc')\n",
    "plt.legend()\n",
    "plt.show()\n",
    "plt.savefig('AccVal_acc')"
   ]
  },
  {
   "cell_type": "markdown",
   "id": "920ad86d",
   "metadata": {
    "papermill": {
     "duration": 0.131147,
     "end_time": "2022-10-01T14:39:03.990389",
     "exception": false,
     "start_time": "2022-10-01T14:39:03.859242",
     "status": "completed"
    },
    "tags": []
   },
   "source": [
    "# VGG16"
   ]
  },
  {
   "cell_type": "code",
   "execution_count": 23,
   "id": "b52b9f8e",
   "metadata": {
    "execution": {
     "iopub.execute_input": "2022-10-01T14:39:04.256224Z",
     "iopub.status.busy": "2022-10-01T14:39:04.255665Z",
     "iopub.status.idle": "2022-10-01T14:39:04.967317Z",
     "shell.execute_reply": "2022-10-01T14:39:04.966257Z"
    },
    "papermill": {
     "duration": 0.847867,
     "end_time": "2022-10-01T14:39:04.970079",
     "exception": false,
     "start_time": "2022-10-01T14:39:04.122212",
     "status": "completed"
    },
    "tags": []
   },
   "outputs": [
    {
     "name": "stdout",
     "output_type": "stream",
     "text": [
      "Downloading data from https://storage.googleapis.com/tensorflow/keras-applications/vgg16/vgg16_weights_tf_dim_ordering_tf_kernels_notop.h5\n",
      "58892288/58889256 [==============================] - 0s 0us/step\n",
      "58900480/58889256 [==============================] - 0s 0us/step\n"
     ]
    }
   ],
   "source": [
    "vgg16 = tensorflow.keras.applications.VGG16(input_shape=IMAGE_SIZE + [3], weights='imagenet', include_top=False)"
   ]
  },
  {
   "cell_type": "code",
   "execution_count": 24,
   "id": "af09af50",
   "metadata": {
    "execution": {
     "iopub.execute_input": "2022-10-01T14:39:05.233180Z",
     "iopub.status.busy": "2022-10-01T14:39:05.232794Z",
     "iopub.status.idle": "2022-10-01T14:39:05.238844Z",
     "shell.execute_reply": "2022-10-01T14:39:05.237721Z"
    },
    "papermill": {
     "duration": 0.14087,
     "end_time": "2022-10-01T14:39:05.241697",
     "exception": false,
     "start_time": "2022-10-01T14:39:05.100827",
     "status": "completed"
    },
    "tags": []
   },
   "outputs": [],
   "source": [
    "for layer in vgg16.layers:\n",
    "    layer.trainable = False"
   ]
  },
  {
   "cell_type": "code",
   "execution_count": 25,
   "id": "92f87299",
   "metadata": {
    "execution": {
     "iopub.execute_input": "2022-10-01T14:39:05.504254Z",
     "iopub.status.busy": "2022-10-01T14:39:05.503876Z",
     "iopub.status.idle": "2022-10-01T14:39:05.513134Z",
     "shell.execute_reply": "2022-10-01T14:39:05.512304Z"
    },
    "papermill": {
     "duration": 0.142881,
     "end_time": "2022-10-01T14:39:05.515385",
     "exception": false,
     "start_time": "2022-10-01T14:39:05.372504",
     "status": "completed"
    },
    "tags": []
   },
   "outputs": [],
   "source": [
    "# Flatten the input\n",
    "# our layers - you can add more if you want\n",
    "x = Flatten()(vgg16.output)"
   ]
  },
  {
   "cell_type": "code",
   "execution_count": 26,
   "id": "3ba8df08",
   "metadata": {
    "execution": {
     "iopub.execute_input": "2022-10-01T14:39:05.780789Z",
     "iopub.status.busy": "2022-10-01T14:39:05.779707Z",
     "iopub.status.idle": "2022-10-01T14:39:05.798212Z",
     "shell.execute_reply": "2022-10-01T14:39:05.797304Z"
    },
    "papermill": {
     "duration": 0.154316,
     "end_time": "2022-10-01T14:39:05.800659",
     "exception": false,
     "start_time": "2022-10-01T14:39:05.646343",
     "status": "completed"
    },
    "tags": []
   },
   "outputs": [],
   "source": [
    "prediction3 = Dense(len(folders), activation='softmax')(x)\n",
    "\n",
    "#create a model object\n",
    "model3 = Model(inputs=vgg16.input, outputs=prediction3)"
   ]
  },
  {
   "cell_type": "code",
   "execution_count": 27,
   "id": "38012c5f",
   "metadata": {
    "execution": {
     "iopub.execute_input": "2022-10-01T14:39:06.067885Z",
     "iopub.status.busy": "2022-10-01T14:39:06.066806Z",
     "iopub.status.idle": "2022-10-01T14:39:06.076015Z",
     "shell.execute_reply": "2022-10-01T14:39:06.074439Z"
    },
    "papermill": {
     "duration": 0.14529,
     "end_time": "2022-10-01T14:39:06.078364",
     "exception": false,
     "start_time": "2022-10-01T14:39:05.933074",
     "status": "completed"
    },
    "tags": []
   },
   "outputs": [
    {
     "name": "stdout",
     "output_type": "stream",
     "text": [
      "Model: \"model_2\"\n",
      "_________________________________________________________________\n",
      "Layer (type)                 Output Shape              Param #   \n",
      "=================================================================\n",
      "input_3 (InputLayer)         [(None, 224, 224, 3)]     0         \n",
      "_________________________________________________________________\n",
      "block1_conv1 (Conv2D)        (None, 224, 224, 64)      1792      \n",
      "_________________________________________________________________\n",
      "block1_conv2 (Conv2D)        (None, 224, 224, 64)      36928     \n",
      "_________________________________________________________________\n",
      "block1_pool (MaxPooling2D)   (None, 112, 112, 64)      0         \n",
      "_________________________________________________________________\n",
      "block2_conv1 (Conv2D)        (None, 112, 112, 128)     73856     \n",
      "_________________________________________________________________\n",
      "block2_conv2 (Conv2D)        (None, 112, 112, 128)     147584    \n",
      "_________________________________________________________________\n",
      "block2_pool (MaxPooling2D)   (None, 56, 56, 128)       0         \n",
      "_________________________________________________________________\n",
      "block3_conv1 (Conv2D)        (None, 56, 56, 256)       295168    \n",
      "_________________________________________________________________\n",
      "block3_conv2 (Conv2D)        (None, 56, 56, 256)       590080    \n",
      "_________________________________________________________________\n",
      "block3_conv3 (Conv2D)        (None, 56, 56, 256)       590080    \n",
      "_________________________________________________________________\n",
      "block3_pool (MaxPooling2D)   (None, 28, 28, 256)       0         \n",
      "_________________________________________________________________\n",
      "block4_conv1 (Conv2D)        (None, 28, 28, 512)       1180160   \n",
      "_________________________________________________________________\n",
      "block4_conv2 (Conv2D)        (None, 28, 28, 512)       2359808   \n",
      "_________________________________________________________________\n",
      "block4_conv3 (Conv2D)        (None, 28, 28, 512)       2359808   \n",
      "_________________________________________________________________\n",
      "block4_pool (MaxPooling2D)   (None, 14, 14, 512)       0         \n",
      "_________________________________________________________________\n",
      "block5_conv1 (Conv2D)        (None, 14, 14, 512)       2359808   \n",
      "_________________________________________________________________\n",
      "block5_conv2 (Conv2D)        (None, 14, 14, 512)       2359808   \n",
      "_________________________________________________________________\n",
      "block5_conv3 (Conv2D)        (None, 14, 14, 512)       2359808   \n",
      "_________________________________________________________________\n",
      "block5_pool (MaxPooling2D)   (None, 7, 7, 512)         0         \n",
      "_________________________________________________________________\n",
      "flatten_2 (Flatten)          (None, 25088)             0         \n",
      "_________________________________________________________________\n",
      "dense_2 (Dense)              (None, 4)                 100356    \n",
      "=================================================================\n",
      "Total params: 14,815,044\n",
      "Trainable params: 100,356\n",
      "Non-trainable params: 14,714,688\n",
      "_________________________________________________________________\n"
     ]
    }
   ],
   "source": [
    "# Model Summary\n",
    "model3.summary()"
   ]
  },
  {
   "cell_type": "code",
   "execution_count": 28,
   "id": "513c62ac",
   "metadata": {
    "execution": {
     "iopub.execute_input": "2022-10-01T14:39:06.344335Z",
     "iopub.status.busy": "2022-10-01T14:39:06.343728Z",
     "iopub.status.idle": "2022-10-01T14:39:06.353530Z",
     "shell.execute_reply": "2022-10-01T14:39:06.352706Z"
    },
    "papermill": {
     "duration": 0.147766,
     "end_time": "2022-10-01T14:39:06.355892",
     "exception": false,
     "start_time": "2022-10-01T14:39:06.208126",
     "status": "completed"
    },
    "tags": []
   },
   "outputs": [],
   "source": [
    "model3.compile( loss='categorical_crossentropy',\n",
    "               optimizer='adam',\n",
    "               metrics=['accuracy'])"
   ]
  },
  {
   "cell_type": "code",
   "execution_count": 29,
   "id": "0d276055",
   "metadata": {
    "execution": {
     "iopub.execute_input": "2022-10-01T14:39:06.623092Z",
     "iopub.status.busy": "2022-10-01T14:39:06.622396Z",
     "iopub.status.idle": "2022-10-01T17:36:25.920671Z",
     "shell.execute_reply": "2022-10-01T17:36:25.919501Z"
    },
    "papermill": {
     "duration": 10639.638272,
     "end_time": "2022-10-01T17:36:26.125313",
     "exception": false,
     "start_time": "2022-10-01T14:39:06.487041",
     "status": "completed"
    },
    "tags": []
   },
   "outputs": [
    {
     "name": "stdout",
     "output_type": "stream",
     "text": [
      "Epoch 1/20\n",
      "61/61 [==============================] - 527s 9s/step - loss: 0.6610 - accuracy: 0.7499 - val_loss: 0.3358 - val_accuracy: 0.8396\n",
      "Epoch 2/20\n",
      "61/61 [==============================] - 528s 9s/step - loss: 0.2449 - accuracy: 0.9118 - val_loss: 0.2919 - val_accuracy: 0.8868\n",
      "Epoch 3/20\n",
      "61/61 [==============================] - 529s 9s/step - loss: 0.1879 - accuracy: 0.9236 - val_loss: 0.1731 - val_accuracy: 0.9340\n",
      "Epoch 4/20\n",
      "61/61 [==============================] - 529s 9s/step - loss: 0.1697 - accuracy: 0.9318 - val_loss: 0.1207 - val_accuracy: 0.9623\n",
      "Epoch 5/20\n",
      "61/61 [==============================] - 528s 9s/step - loss: 0.1105 - accuracy: 0.9626 - val_loss: 0.1103 - val_accuracy: 0.9717\n",
      "Epoch 6/20\n",
      "61/61 [==============================] - 529s 9s/step - loss: 0.0924 - accuracy: 0.9703 - val_loss: 0.1532 - val_accuracy: 0.9528\n",
      "Epoch 7/20\n",
      "61/61 [==============================] - 529s 9s/step - loss: 0.0903 - accuracy: 0.9713 - val_loss: 0.1107 - val_accuracy: 0.9434\n",
      "Epoch 8/20\n",
      "61/61 [==============================] - 527s 9s/step - loss: 0.0790 - accuracy: 0.9677 - val_loss: 0.1120 - val_accuracy: 0.9434\n",
      "Epoch 9/20\n",
      "61/61 [==============================] - 527s 9s/step - loss: 0.0841 - accuracy: 0.9672 - val_loss: 0.2059 - val_accuracy: 0.9340\n",
      "Epoch 10/20\n",
      "61/61 [==============================] - 530s 9s/step - loss: 0.0587 - accuracy: 0.9805 - val_loss: 0.0990 - val_accuracy: 0.9434\n",
      "Epoch 11/20\n",
      "61/61 [==============================] - 529s 9s/step - loss: 0.0554 - accuracy: 0.9841 - val_loss: 0.0860 - val_accuracy: 0.9623\n",
      "Epoch 12/20\n",
      "61/61 [==============================] - 527s 9s/step - loss: 0.0423 - accuracy: 0.9862 - val_loss: 0.0817 - val_accuracy: 0.9717\n",
      "Epoch 13/20\n",
      "61/61 [==============================] - 526s 9s/step - loss: 0.0357 - accuracy: 0.9933 - val_loss: 0.0736 - val_accuracy: 0.9811\n",
      "Epoch 14/20\n",
      "61/61 [==============================] - 526s 9s/step - loss: 0.0486 - accuracy: 0.9862 - val_loss: 0.1333 - val_accuracy: 0.9340\n",
      "Epoch 15/20\n",
      "61/61 [==============================] - 527s 9s/step - loss: 0.0337 - accuracy: 0.9928 - val_loss: 0.0871 - val_accuracy: 0.9717\n",
      "Epoch 16/20\n",
      "61/61 [==============================] - 531s 9s/step - loss: 0.0386 - accuracy: 0.9882 - val_loss: 0.1060 - val_accuracy: 0.9623\n",
      "Epoch 17/20\n",
      "61/61 [==============================] - 533s 9s/step - loss: 0.0252 - accuracy: 0.9954 - val_loss: 0.1298 - val_accuracy: 0.9340\n",
      "Epoch 18/20\n",
      "61/61 [==============================] - 530s 9s/step - loss: 0.0257 - accuracy: 0.9933 - val_loss: 0.0881 - val_accuracy: 0.9717\n",
      "Epoch 19/20\n",
      "61/61 [==============================] - 530s 9s/step - loss: 0.0411 - accuracy: 0.9877 - val_loss: 0.1456 - val_accuracy: 0.9434\n",
      "Epoch 20/20\n",
      "61/61 [==============================] - 531s 9s/step - loss: 0.0309 - accuracy: 0.9882 - val_loss: 0.0941 - val_accuracy: 0.9528\n"
     ]
    }
   ],
   "source": [
    "# Fit the model\n",
    "r3 = model3.fit_generator( training_set,\n",
    "                         validation_data=test_set,\n",
    "                        epochs=20,\n",
    "                        steps_per_epoch=len(training_set),\n",
    "                         validation_steps=len(test_set))"
   ]
  },
  {
   "cell_type": "code",
   "execution_count": 30,
   "id": "1a3939d9",
   "metadata": {
    "execution": {
     "iopub.execute_input": "2022-10-01T17:36:26.547477Z",
     "iopub.status.busy": "2022-10-01T17:36:26.546750Z",
     "iopub.status.idle": "2022-10-01T17:36:26.783244Z",
     "shell.execute_reply": "2022-10-01T17:36:26.782316Z"
    },
    "papermill": {
     "duration": 0.449475,
     "end_time": "2022-10-01T17:36:26.785533",
     "exception": false,
     "start_time": "2022-10-01T17:36:26.336058",
     "status": "completed"
    },
    "tags": []
   },
   "outputs": [
    {
     "data": {
      "image/png": "[encoded data removed]",
      "text/plain": [
       "<Figure size 432x288 with 1 Axes>"
      ]
     },
     "metadata": {
      "needs_background": "light"
     },
     "output_type": "display_data"
    },
    {
     "data": {
      "text/plain": [
       "<Figure size 432x288 with 0 Axes>"
      ]
     },
     "metadata": {},
     "output_type": "display_data"
    }
   ],
   "source": [
    "# plot the loss vgg16\n",
    "plt.plot(r3.history['loss'], label='train loss')\n",
    "plt.plot(r3.history['val_loss'], label='val loss')\n",
    "plt.legend()\n",
    "plt.show()\n",
    "plt.savefig('LossVal_loss')"
   ]
  },
  {
   "cell_type": "code",
   "execution_count": 31,
   "id": "71ea4795",
   "metadata": {
    "execution": {
     "iopub.execute_input": "2022-10-01T17:36:27.209459Z",
     "iopub.status.busy": "2022-10-01T17:36:27.208772Z",
     "iopub.status.idle": "2022-10-01T17:36:27.439752Z",
     "shell.execute_reply": "2022-10-01T17:36:27.438472Z"
    },
    "papermill": {
     "duration": 0.445103,
     "end_time": "2022-10-01T17:36:27.442398",
     "exception": false,
     "start_time": "2022-10-01T17:36:26.997295",
     "status": "completed"
    },
    "tags": []
   },
   "outputs": [
    {
     "data": {
      "image/png": "[encoded data removed]",
      "text/plain": [
       "<Figure size 432x288 with 1 Axes>"
      ]
     },
     "metadata": {
      "needs_background": "light"
     },
     "output_type": "display_data"
    },
    {
     "data": {
      "text/plain": [
       "<Figure size 432x288 with 0 Axes>"
      ]
     },
     "metadata": {},
     "output_type": "display_data"
    }
   ],
   "source": [
    "# plot the accuracy vgg16\n",
    "plt.plot(r3.history['accuracy'], label='train acc')\n",
    "plt.plot(r3.history['val_accuracy'], label='val acc')\n",
    "plt.legend()\n",
    "plt.show()\n",
    "plt.savefig('AccVal_acc')"
   ]
  }
 ],
 "metadata": {
  "kernelspec": {
   "display_name": "Python 3",
   "language": "python",
   "name": "python3"
  },
  "language_info": {
   "codemirror_mode": {
    "name": "ipython",
    "version": 3
   },
   "file_extension": ".py",
   "mimetype": "text/x-python",
   "name": "python",
   "nbconvert_exporter": "python",
   "pygments_lexer": "ipython3",
   "version": "3.7.12"
  },
  "papermill": {
   "default_parameters": {},
   "duration": 17612.579989,
   "end_time": "2022-10-01T17:36:31.321583",
   "environment_variables": {},
   "exception": null,
   "input_path": "__notebook__.ipynb",
   "output_path": "__notebook__.ipynb",
   "parameters": {},
   "start_time": "2022-10-01T12:42:58.741594",
   "version": "2.3.4"
  }
 },
 "nbformat": 4,
 "nbformat_minor": 5
}
